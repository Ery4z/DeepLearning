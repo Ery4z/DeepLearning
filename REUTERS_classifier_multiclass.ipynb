{
 "cells": [
  {
   "cell_type": "markdown",
   "id": "0450ef4b",
   "metadata": {},
   "source": [
    "# 1. Importing necessary lib\n",
    "---\n",
    "The following library are needed:\n",
    "1. Keras\n",
    "2. Numpy"
   ]
  },
  {
   "cell_type": "code",
   "execution_count": 1,
   "id": "2e302cab",
   "metadata": {},
   "outputs": [],
   "source": [
    "from keras.datasets import reuters\n",
    "from keras import models, layers\n",
    "import matplotlib.pyplot as plt\n",
    "import numpy as np"
   ]
  },
  {
   "cell_type": "code",
   "execution_count": 2,
   "id": "90601188",
   "metadata": {},
   "outputs": [
    {
     "name": "stdout",
     "output_type": "stream",
     "text": [
      "Downloading data from https://storage.googleapis.com/tensorflow/tf-keras-datasets/reuters.npz\n",
      "2110848/2110848 [==============================] - 0s 0us/step\n"
     ]
    }
   ],
   "source": [
    "(train_data, train_labels), (test_data, test_labels) = reuters.load_data(num_words=10000)"
   ]
  },
  {
   "cell_type": "code",
   "execution_count": 3,
   "id": "7f2e8485",
   "metadata": {},
   "outputs": [
    {
     "name": "stdout",
     "output_type": "stream",
     "text": [
      "[ 3  4  3 ... 25  3 25]\n"
     ]
    }
   ],
   "source": [
    "print(train_labels)"
   ]
  },
  {
   "cell_type": "code",
   "execution_count": 4,
   "id": "02ff23fb",
   "metadata": {},
   "outputs": [],
   "source": [
    "def vectorize_sequences(sequences, dimension=10000):\n",
    "    results = np.zeros((len(sequences),dimension))\n",
    "    for i, sequence in enumerate(sequences):\n",
    "        results[i,sequence] = 1.\n",
    "    return results\n",
    "\n",
    "x_train = vectorize_sequences(train_data)\n",
    "x_test = vectorize_sequences(test_data)\n",
    "\n",
    "def to_one_hot(labels, dimension=46):\n",
    "    \"\"\" Instead of this function keras.utils.np_utils.to_categorical() can be used.\n",
    "    \"\"\"\n",
    "    \n",
    "    results = np.zeros((len(labels), dimension))\n",
    "    for i, label in enumerate(labels):\n",
    "        results[i, label] = 1.\n",
    "    return results\n",
    "\n",
    "one_hot_train_labels = to_one_hot(train_labels)\n",
    "one_hot_test_labels = to_one_hot(test_labels)"
   ]
  },
  {
   "cell_type": "code",
   "execution_count": 7,
   "id": "bdbfc8c8",
   "metadata": {},
   "outputs": [],
   "source": [
    "model = models.Sequential()\n",
    "\n",
    "model.add(layers.Dense(64, activation='relu', input_shape=(10000,)))\n",
    "model.add(layers.Dense(64, activation='relu'))\n",
    "model.add(layers.Dense(46, activation='softmax'))"
   ]
  },
  {
   "cell_type": "code",
   "execution_count": 8,
   "id": "4989aa5e",
   "metadata": {},
   "outputs": [],
   "source": [
    "x_val = x_train[:1000]\n",
    "partial_x_train = x_train[1000:]\n",
    "\n",
    "y_val = one_hot_train_labels[:1000]\n",
    "partial_y_train = one_hot_train_labels[1000:]"
   ]
  },
  {
   "cell_type": "code",
   "execution_count": 11,
   "id": "999003d7",
   "metadata": {},
   "outputs": [
    {
     "name": "stdout",
     "output_type": "stream",
     "text": [
      "Epoch 1/7\n",
      "16/16 [==============================] - 1s 32ms/step - loss: 0.1346 - acc: 0.9548 - val_loss: 1.0681 - val_acc: 0.8000\n",
      "Epoch 2/7\n",
      "16/16 [==============================] - 0s 17ms/step - loss: 0.1066 - acc: 0.9582 - val_loss: 1.0883 - val_acc: 0.8020\n",
      "Epoch 3/7\n",
      "16/16 [==============================] - 0s 20ms/step - loss: 0.1057 - acc: 0.9569 - val_loss: 1.1797 - val_acc: 0.7830\n",
      "Epoch 4/7\n",
      "16/16 [==============================] - 0s 18ms/step - loss: 0.1015 - acc: 0.9583 - val_loss: 1.1579 - val_acc: 0.8030\n",
      "Epoch 5/7\n",
      "16/16 [==============================] - 0s 17ms/step - loss: 0.1002 - acc: 0.9594 - val_loss: 1.1187 - val_acc: 0.7950\n",
      "Epoch 6/7\n",
      "16/16 [==============================] - 0s 17ms/step - loss: 0.0994 - acc: 0.9579 - val_loss: 1.1798 - val_acc: 0.7940\n",
      "Epoch 7/7\n",
      "16/16 [==============================] - 0s 21ms/step - loss: 0.0968 - acc: 0.9590 - val_loss: 1.1694 - val_acc: 0.7970\n"
     ]
    }
   ],
   "source": [
    "model.compile(optimizer='rmsprop',\n",
    "             loss='categorical_crossentropy',\n",
    "             metrics=['acc'])\n",
    "\n",
    "history = model.fit(partial_x_train,\n",
    "                   partial_y_train,\n",
    "                   epochs=7,\n",
    "                   batch_size=512,\n",
    "                   validation_data=(x_val,y_val))"
   ]
  },
  {
   "cell_type": "code",
   "execution_count": 12,
   "id": "1113fbb3",
   "metadata": {},
   "outputs": [
    {
     "data": {
      "image/png": "[encoded data removed]",
      "text/plain": [
       "<Figure size 432x288 with 1 Axes>"
      ]
     },
     "metadata": {
      "needs_background": "light"
     },
     "output_type": "display_data"
    },
    {
     "data": {
      "image/png": "[encoded data removed]",
      "text/plain": [
       "<Figure size 432x288 with 1 Axes>"
      ]
     },
     "metadata": {
      "needs_background": "light"
     },
     "output_type": "display_data"
    }
   ],
   "source": [
    "history_dict = history.history\n",
    "loss_values = history_dict['loss']\n",
    "val_loss_values = history_dict['val_loss']\n",
    "\n",
    "epochs = range(1, len(loss_values) + 1)\n",
    "plt.plot(epochs, loss_values, 'bo', label='Training loss')\n",
    "plt.plot(epochs, val_loss_values, 'b', label='Validation loss')\n",
    "plt.title('Training and validation loss')\n",
    "plt.xlabel('Epochs')\n",
    "plt.ylabel('Loss')\n",
    "plt.legend()\n",
    "plt.show()\n",
    "\n",
    "acc_values = history_dict['acc']\n",
    "val_acc_values = history_dict['val_acc']\n",
    "\n",
    "plt.plot(epochs, acc_values, 'bo', label='Training acc')\n",
    "plt.plot(epochs, val_acc_values, 'b', label='Validation acc')\n",
    "plt.title('Training and validation acc')\n",
    "plt.xlabel('Epochs')\n",
    "plt.ylabel('Acc')\n",
    "plt.legend()\n",
    "plt.show()"
   ]
  },
  {
   "cell_type": "code",
   "execution_count": 13,
   "id": "6e4f685d",
   "metadata": {},
   "outputs": [
    {
     "name": "stdout",
     "output_type": "stream",
     "text": [
      "71/71 [==============================] - 0s 4ms/step - loss: 1.3978 - acc: 0.7769\n",
      "Accuracy: 77.69367694854736%\n"
     ]
    }
   ],
   "source": [
    "results = model.evaluate(x_test, one_hot_test_labels)\n",
    "print(f\"Accuracy: {results[1] * 100}%\")"
   ]
  },
  {
   "cell_type": "markdown",
   "id": "985b00ba",
   "metadata": {},
   "source": [
    "# 2. Hyperparameter comparison\n",
    "---"
   ]
  },
  {
   "cell_type": "code",
   "execution_count": 20,
   "id": "b800de64",
   "metadata": {},
   "outputs": [],
   "source": [
    "def create_model(layer=2,neurons=64):\n",
    "    model = models.Sequential()\n",
    "    model.add(layers.Dense(neurons, activation='relu', input_shape=(10000,)))\n",
    "    for i in range(layer-1):\n",
    "        model.add(layers.Dense(neurons, activation='relu'))\n",
    "    model.add(layers.Dense(46, activation='softmax'))\n",
    "    return model"
   ]
  },
  {
   "cell_type": "markdown",
   "id": "7b292055",
   "metadata": {},
   "source": [
    "## 2.1 Implementing a bottleneck\n",
    "\n",
    "Using a layer with 4 neurons in the middle of the system will act as a bottleneck of the implementation. The performances decreases."
   ]
  },
  {
   "cell_type": "code",
   "execution_count": 18,
   "id": "a5711070",
   "metadata": {},
   "outputs": [
    {
     "name": "stdout",
     "output_type": "stream",
     "text": [
      "Epoch 1/20\n",
      "63/63 [==============================] - 1s 12ms/step - loss: 3.4661 - acc: 0.2923 - val_loss: 3.0922 - val_acc: 0.2560\n",
      "Epoch 2/20\n",
      "63/63 [==============================] - 1s 10ms/step - loss: 2.7944 - acc: 0.2885 - val_loss: 2.6092 - val_acc: 0.3320\n",
      "Epoch 3/20\n",
      "63/63 [==============================] - 1s 8ms/step - loss: 2.3613 - acc: 0.3399 - val_loss: 2.2880 - val_acc: 0.3390\n",
      "Epoch 4/20\n",
      "63/63 [==============================] - 1s 10ms/step - loss: 1.9868 - acc: 0.3484 - val_loss: 1.9409 - val_acc: 0.3390\n",
      "Epoch 5/20\n",
      "63/63 [==============================] - 1s 10ms/step - loss: 1.5371 - acc: 0.4786 - val_loss: 1.4835 - val_acc: 0.6220\n",
      "Epoch 6/20\n",
      "63/63 [==============================] - 1s 9ms/step - loss: 1.2053 - acc: 0.6501 - val_loss: 1.4043 - val_acc: 0.6410\n",
      "Epoch 7/20\n",
      "63/63 [==============================] - 1s 9ms/step - loss: 1.1046 - acc: 0.6744 - val_loss: 1.3840 - val_acc: 0.6680\n",
      "Epoch 8/20\n",
      "63/63 [==============================] - 1s 10ms/step - loss: 1.0302 - acc: 0.7072 - val_loss: 1.3816 - val_acc: 0.6830\n",
      "Epoch 9/20\n",
      "63/63 [==============================] - 1s 9ms/step - loss: 0.9699 - acc: 0.7268 - val_loss: 1.4027 - val_acc: 0.6890\n",
      "Epoch 10/20\n",
      "63/63 [==============================] - 1s 10ms/step - loss: 0.9214 - acc: 0.7512 - val_loss: 1.4481 - val_acc: 0.6850\n",
      "Epoch 11/20\n",
      "63/63 [==============================] - 1s 8ms/step - loss: 0.8777 - acc: 0.7603 - val_loss: 1.4706 - val_acc: 0.6900\n",
      "Epoch 12/20\n",
      "63/63 [==============================] - 1s 10ms/step - loss: 0.8411 - acc: 0.7656 - val_loss: 1.5165 - val_acc: 0.6920\n",
      "Epoch 13/20\n",
      "63/63 [==============================] - 1s 9ms/step - loss: 0.8087 - acc: 0.7766 - val_loss: 1.5867 - val_acc: 0.6820\n",
      "Epoch 14/20\n",
      "63/63 [==============================] - 1s 9ms/step - loss: 0.7793 - acc: 0.7820 - val_loss: 1.6016 - val_acc: 0.6870\n",
      "Epoch 15/20\n",
      "63/63 [==============================] - 1s 8ms/step - loss: 0.7555 - acc: 0.7885 - val_loss: 1.7126 - val_acc: 0.6810\n",
      "Epoch 16/20\n",
      "63/63 [==============================] - 1s 9ms/step - loss: 0.7322 - acc: 0.8002 - val_loss: 1.7762 - val_acc: 0.6890\n",
      "Epoch 17/20\n",
      "63/63 [==============================] - 1s 9ms/step - loss: 0.7159 - acc: 0.8043 - val_loss: 1.8297 - val_acc: 0.6830\n",
      "Epoch 18/20\n",
      "63/63 [==============================] - 1s 8ms/step - loss: 0.6947 - acc: 0.8066 - val_loss: 1.9554 - val_acc: 0.6830\n",
      "Epoch 19/20\n",
      "63/63 [==============================] - 1s 9ms/step - loss: 0.6797 - acc: 0.8099 - val_loss: 1.9906 - val_acc: 0.6800\n",
      "Epoch 20/20\n",
      "63/63 [==============================] - 1s 9ms/step - loss: 0.6664 - acc: 0.8153 - val_loss: 2.0871 - val_acc: 0.6650\n"
     ]
    },
    {
     "data": {
      "image/png": "[encoded data removed]",
      "text/plain": [
       "<Figure size 432x288 with 1 Axes>"
      ]
     },
     "metadata": {
      "needs_background": "light"
     },
     "output_type": "display_data"
    },
    {
     "name": "stdout",
     "output_type": "stream",
     "text": [
      "71/71 [==============================] - 0s 5ms/step - loss: 2.3250 - acc: 0.6563\n",
      "Accuracy: 65.62778353691101%\n"
     ]
    }
   ],
   "source": [
    "\n",
    "model_test = models.Sequential()\n",
    "\n",
    "model_test.add(layers.Dense(64, activation='relu', input_shape=(10000,)))\n",
    "model_test.add(layers.Dense(4, activation='relu')) # Bottle neck\n",
    "model_test.add(layers.Dense(46, activation='softmax'))\n",
    "\n",
    "model_test.compile(optimizer='rmsprop',\n",
    "            loss='categorical_crossentropy',\n",
    "            metrics=['acc'])\n",
    "\n",
    "history_test = model_test.fit(partial_x_train,\n",
    "                partial_y_train,\n",
    "                epochs=20,\n",
    "                batch_size=128,\n",
    "                validation_data=(x_val,y_val))\n",
    "\n",
    "history_dict_test = history_test.history\n",
    "loss_values = history_dict_test['loss']\n",
    "val_loss_values = history_dict_test['val_loss']\n",
    "\n",
    "acc_values = history_dict_test['acc']\n",
    "val_acc_values = history_dict_test['val_acc']\n",
    "\n",
    "epochs = range(1, len(loss_values) + 1)\n",
    "plt.plot(epochs, val_acc_values, label=f'Validation acc')\n",
    "\n",
    "plt.grid()\n",
    "plt.title('Validation acc')\n",
    "plt.xlabel('Epochs')\n",
    "plt.ylabel('Acc')\n",
    "plt.legend()\n",
    "\n",
    "plt.show()\n",
    "\n",
    "results = model_test.evaluate(x_test, one_hot_test_labels)\n",
    "print(f\"Accuracy: {results[1] * 100}%\")"
   ]
  },
  {
   "cell_type": "code",
   "execution_count": 21,
   "id": "b45e1182",
   "metadata": {},
   "outputs": [
    {
     "name": "stdout",
     "output_type": "stream",
     "text": [
      "Epoch 1/20\n",
      "63/63 [==============================] - 1s 12ms/step - loss: 2.1557 - acc: 0.5702 - val_loss: 1.4472 - val_acc: 0.6680\n",
      "Epoch 2/20\n",
      "63/63 [==============================] - 1s 8ms/step - loss: 1.2015 - acc: 0.7306 - val_loss: 1.1679 - val_acc: 0.7330\n",
      "Epoch 3/20\n",
      "63/63 [==============================] - 1s 9ms/step - loss: 0.9000 - acc: 0.7924 - val_loss: 1.0348 - val_acc: 0.7700\n",
      "Epoch 4/20\n",
      "63/63 [==============================] - 1s 9ms/step - loss: 0.6940 - acc: 0.8450 - val_loss: 0.9764 - val_acc: 0.7980\n",
      "Epoch 5/20\n",
      "63/63 [==============================] - 1s 8ms/step - loss: 0.5384 - acc: 0.8815 - val_loss: 0.9463 - val_acc: 0.8030\n",
      "Epoch 6/20\n",
      "63/63 [==============================] - 1s 9ms/step - loss: 0.4227 - acc: 0.9069 - val_loss: 0.9096 - val_acc: 0.8100\n",
      "Epoch 7/20\n",
      "63/63 [==============================] - 1s 9ms/step - loss: 0.3366 - acc: 0.9266 - val_loss: 0.9280 - val_acc: 0.8050\n",
      "Epoch 8/20\n",
      "63/63 [==============================] - 1s 8ms/step - loss: 0.2763 - acc: 0.9394 - val_loss: 0.9364 - val_acc: 0.8160\n",
      "Epoch 9/20\n",
      "63/63 [==============================] - 1s 9ms/step - loss: 0.2303 - acc: 0.9453 - val_loss: 0.9581 - val_acc: 0.8050\n",
      "Epoch 10/20\n",
      "63/63 [==============================] - 1s 9ms/step - loss: 0.2025 - acc: 0.9493 - val_loss: 0.9773 - val_acc: 0.8110\n",
      "Epoch 11/20\n",
      "63/63 [==============================] - 1s 9ms/step - loss: 0.1769 - acc: 0.9528 - val_loss: 1.0398 - val_acc: 0.7920\n",
      "Epoch 12/20\n",
      "63/63 [==============================] - 1s 8ms/step - loss: 0.1648 - acc: 0.9533 - val_loss: 1.0623 - val_acc: 0.8020\n",
      "Epoch 13/20\n",
      "63/63 [==============================] - 1s 11ms/step - loss: 0.1505 - acc: 0.9545 - val_loss: 1.1553 - val_acc: 0.7870\n",
      "Epoch 14/20\n",
      "63/63 [==============================] - 1s 8ms/step - loss: 0.1369 - acc: 0.9562 - val_loss: 1.1298 - val_acc: 0.8010\n",
      "Epoch 15/20\n",
      "63/63 [==============================] - 1s 8ms/step - loss: 0.1363 - acc: 0.9553 - val_loss: 1.1201 - val_acc: 0.8060\n",
      "Epoch 16/20\n",
      "63/63 [==============================] - 0s 8ms/step - loss: 0.1290 - acc: 0.9572 - val_loss: 1.1399 - val_acc: 0.7970\n",
      "Epoch 17/20\n",
      "63/63 [==============================] - 1s 9ms/step - loss: 0.1232 - acc: 0.9582 - val_loss: 1.2392 - val_acc: 0.7840\n",
      "Epoch 18/20\n",
      "63/63 [==============================] - 1s 10ms/step - loss: 0.1200 - acc: 0.9583 - val_loss: 1.2141 - val_acc: 0.7830\n",
      "Epoch 19/20\n",
      "63/63 [==============================] - 1s 8ms/step - loss: 0.1166 - acc: 0.9570 - val_loss: 1.2803 - val_acc: 0.7840\n",
      "Epoch 20/20\n",
      "63/63 [==============================] - 1s 9ms/step - loss: 0.1127 - acc: 0.9583 - val_loss: 1.3386 - val_acc: 0.7790\n",
      "Epoch 1/20\n",
      "63/63 [==============================] - 1s 12ms/step - loss: 1.7931 - acc: 0.6278 - val_loss: 1.2321 - val_acc: 0.7270\n",
      "Epoch 2/20\n",
      "63/63 [==============================] - 1s 9ms/step - loss: 0.9535 - acc: 0.7923 - val_loss: 1.0024 - val_acc: 0.7850\n",
      "Epoch 3/20\n",
      "63/63 [==============================] - 1s 10ms/step - loss: 0.6440 - acc: 0.8614 - val_loss: 0.9324 - val_acc: 0.7970\n",
      "Epoch 4/20\n",
      "63/63 [==============================] - 1s 12ms/step - loss: 0.4433 - acc: 0.9070 - val_loss: 0.8897 - val_acc: 0.8090\n",
      "Epoch 5/20\n",
      "63/63 [==============================] - 1s 9ms/step - loss: 0.3216 - acc: 0.9286 - val_loss: 0.8833 - val_acc: 0.8200\n",
      "Epoch 6/20\n",
      "63/63 [==============================] - 1s 10ms/step - loss: 0.2525 - acc: 0.9429 - val_loss: 0.8954 - val_acc: 0.8150\n",
      "Epoch 7/20\n",
      "63/63 [==============================] - 1s 10ms/step - loss: 0.2098 - acc: 0.9506 - val_loss: 0.9187 - val_acc: 0.8110\n",
      "Epoch 8/20\n",
      "63/63 [==============================] - 1s 10ms/step - loss: 0.1807 - acc: 0.9523 - val_loss: 0.9465 - val_acc: 0.8100\n",
      "Epoch 9/20\n",
      "63/63 [==============================] - 1s 10ms/step - loss: 0.1671 - acc: 0.9541 - val_loss: 1.0208 - val_acc: 0.8040\n",
      "Epoch 10/20\n",
      "63/63 [==============================] - 1s 10ms/step - loss: 0.1510 - acc: 0.9546 - val_loss: 1.0870 - val_acc: 0.7940\n",
      "Epoch 11/20\n",
      "63/63 [==============================] - 1s 9ms/step - loss: 0.1425 - acc: 0.9546 - val_loss: 1.0226 - val_acc: 0.8080\n",
      "Epoch 12/20\n",
      "63/63 [==============================] - 1s 9ms/step - loss: 0.1382 - acc: 0.9554 - val_loss: 1.0238 - val_acc: 0.8110\n",
      "Epoch 13/20\n",
      "63/63 [==============================] - 1s 10ms/step - loss: 0.1291 - acc: 0.9557 - val_loss: 1.1730 - val_acc: 0.7940\n",
      "Epoch 14/20\n",
      "63/63 [==============================] - 1s 10ms/step - loss: 0.1282 - acc: 0.9579 - val_loss: 1.0838 - val_acc: 0.8070\n",
      "Epoch 15/20\n",
      "63/63 [==============================] - 1s 10ms/step - loss: 0.1229 - acc: 0.9565 - val_loss: 1.1877 - val_acc: 0.8010\n",
      "Epoch 16/20\n",
      "63/63 [==============================] - 1s 9ms/step - loss: 0.1188 - acc: 0.9579 - val_loss: 1.2086 - val_acc: 0.7980\n",
      "Epoch 17/20\n",
      "63/63 [==============================] - 1s 9ms/step - loss: 0.1174 - acc: 0.9555 - val_loss: 1.1660 - val_acc: 0.7940\n",
      "Epoch 18/20\n",
      "63/63 [==============================] - 1s 10ms/step - loss: 0.1115 - acc: 0.9575 - val_loss: 1.1786 - val_acc: 0.8040\n",
      "Epoch 19/20\n",
      "63/63 [==============================] - 1s 9ms/step - loss: 0.1069 - acc: 0.9568 - val_loss: 1.3076 - val_acc: 0.7870\n",
      "Epoch 20/20\n",
      "63/63 [==============================] - 1s 9ms/step - loss: 0.1061 - acc: 0.9569 - val_loss: 1.2240 - val_acc: 0.8000\n",
      "Epoch 1/20\n",
      "63/63 [==============================] - 2s 15ms/step - loss: 1.5629 - acc: 0.6619 - val_loss: 1.1515 - val_acc: 0.7460\n",
      "Epoch 2/20\n",
      "63/63 [==============================] - 1s 11ms/step - loss: 0.7589 - acc: 0.8339 - val_loss: 0.8931 - val_acc: 0.8060\n",
      "Epoch 3/20\n",
      "63/63 [==============================] - 1s 13ms/step - loss: 0.4472 - acc: 0.9012 - val_loss: 0.8491 - val_acc: 0.8290\n",
      "Epoch 4/20\n",
      "63/63 [==============================] - 1s 13ms/step - loss: 0.3017 - acc: 0.9320 - val_loss: 0.8957 - val_acc: 0.8040\n",
      "Epoch 5/20\n",
      "63/63 [==============================] - 1s 12ms/step - loss: 0.2267 - acc: 0.9485 - val_loss: 0.9148 - val_acc: 0.8130\n",
      "Epoch 6/20\n",
      "63/63 [==============================] - 1s 13ms/step - loss: 0.1892 - acc: 0.9491 - val_loss: 1.0025 - val_acc: 0.8000\n",
      "Epoch 7/20\n",
      "63/63 [==============================] - 1s 11ms/step - loss: 0.1702 - acc: 0.9521 - val_loss: 1.0506 - val_acc: 0.7970\n",
      "Epoch 8/20\n",
      "63/63 [==============================] - 1s 12ms/step - loss: 0.1512 - acc: 0.9543 - val_loss: 0.9603 - val_acc: 0.8140\n",
      "Epoch 9/20\n",
      "63/63 [==============================] - 1s 11ms/step - loss: 0.1408 - acc: 0.9543 - val_loss: 1.0076 - val_acc: 0.8030\n",
      "Epoch 10/20\n",
      "63/63 [==============================] - 1s 13ms/step - loss: 0.1285 - acc: 0.9567 - val_loss: 1.0596 - val_acc: 0.8010\n",
      "Epoch 11/20\n",
      "63/63 [==============================] - 1s 11ms/step - loss: 0.1230 - acc: 0.9529 - val_loss: 1.0482 - val_acc: 0.8030\n",
      "Epoch 12/20\n",
      "63/63 [==============================] - 1s 13ms/step - loss: 0.1159 - acc: 0.9544 - val_loss: 1.1369 - val_acc: 0.8000\n",
      "Epoch 13/20\n",
      "63/63 [==============================] - 1s 18ms/step - loss: 0.1099 - acc: 0.9562 - val_loss: 1.2468 - val_acc: 0.7930\n",
      "Epoch 14/20\n",
      "63/63 [==============================] - 1s 11ms/step - loss: 0.1063 - acc: 0.9551 - val_loss: 1.2032 - val_acc: 0.7980\n",
      "Epoch 15/20\n",
      "63/63 [==============================] - 1s 18ms/step - loss: 0.0971 - acc: 0.9583 - val_loss: 1.2529 - val_acc: 0.8020\n",
      "Epoch 16/20\n",
      "63/63 [==============================] - 1s 23ms/step - loss: 0.0940 - acc: 0.9570 - val_loss: 1.4202 - val_acc: 0.7910\n",
      "Epoch 17/20\n",
      "63/63 [==============================] - 1s 15ms/step - loss: 0.0916 - acc: 0.9564 - val_loss: 1.4333 - val_acc: 0.7890\n",
      "Epoch 18/20\n",
      "63/63 [==============================] - 1s 12ms/step - loss: 0.0898 - acc: 0.9573 - val_loss: 1.4387 - val_acc: 0.7970\n",
      "Epoch 19/20\n",
      "63/63 [==============================] - 1s 12ms/step - loss: 0.0856 - acc: 0.9577 - val_loss: 1.5846 - val_acc: 0.7910\n",
      "Epoch 20/20\n",
      "63/63 [==============================] - 1s 11ms/step - loss: 0.0835 - acc: 0.9578 - val_loss: 1.5807 - val_acc: 0.7900\n",
      "Epoch 1/20\n",
      "63/63 [==============================] - 2s 16ms/step - loss: 1.4420 - acc: 0.6813 - val_loss: 1.1269 - val_acc: 0.7240\n",
      "Epoch 2/20\n",
      "63/63 [==============================] - 1s 13ms/step - loss: 0.6350 - acc: 0.8581 - val_loss: 0.8285 - val_acc: 0.8100\n",
      "Epoch 3/20\n",
      "63/63 [==============================] - 1s 13ms/step - loss: 0.3468 - acc: 0.9237 - val_loss: 0.8364 - val_acc: 0.8230\n",
      "Epoch 4/20\n",
      "63/63 [==============================] - 1s 15ms/step - loss: 0.2388 - acc: 0.9446 - val_loss: 0.8418 - val_acc: 0.8410\n",
      "Epoch 5/20\n",
      "63/63 [==============================] - 1s 13ms/step - loss: 0.1938 - acc: 0.9493 - val_loss: 0.9209 - val_acc: 0.8150\n",
      "Epoch 6/20\n",
      "63/63 [==============================] - 1s 14ms/step - loss: 0.1605 - acc: 0.9526 - val_loss: 1.0376 - val_acc: 0.8160\n",
      "Epoch 7/20\n",
      "63/63 [==============================] - 1s 15ms/step - loss: 0.1449 - acc: 0.9548 - val_loss: 1.0471 - val_acc: 0.8170\n",
      "Epoch 8/20\n",
      "63/63 [==============================] - 1s 13ms/step - loss: 0.1331 - acc: 0.9540 - val_loss: 1.1291 - val_acc: 0.8160\n",
      "Epoch 9/20\n",
      "63/63 [==============================] - 1s 13ms/step - loss: 0.1190 - acc: 0.9558 - val_loss: 1.1910 - val_acc: 0.8070\n",
      "Epoch 10/20\n",
      "63/63 [==============================] - 1s 15ms/step - loss: 0.1128 - acc: 0.9549 - val_loss: 1.2134 - val_acc: 0.8130\n",
      "Epoch 11/20\n",
      "63/63 [==============================] - 1s 19ms/step - loss: 0.1003 - acc: 0.9572 - val_loss: 1.2835 - val_acc: 0.8070\n",
      "Epoch 12/20\n",
      "63/63 [==============================] - 1s 20ms/step - loss: 0.0956 - acc: 0.9568 - val_loss: 1.4405 - val_acc: 0.8000\n",
      "Epoch 13/20\n",
      "63/63 [==============================] - 1s 13ms/step - loss: 0.0919 - acc: 0.9568 - val_loss: 1.5571 - val_acc: 0.8000\n",
      "Epoch 14/20\n",
      "63/63 [==============================] - 1s 13ms/step - loss: 0.0876 - acc: 0.9577 - val_loss: 1.6410 - val_acc: 0.8020\n",
      "Epoch 15/20\n",
      "63/63 [==============================] - 1s 15ms/step - loss: 0.0826 - acc: 0.9575 - val_loss: 1.8000 - val_acc: 0.8000\n",
      "Epoch 16/20\n",
      "63/63 [==============================] - 1s 18ms/step - loss: 0.0791 - acc: 0.9568 - val_loss: 1.8765 - val_acc: 0.7950\n",
      "Epoch 17/20\n",
      "63/63 [==============================] - 1s 13ms/step - loss: 0.0767 - acc: 0.9570 - val_loss: 2.0831 - val_acc: 0.7950\n",
      "Epoch 18/20\n",
      "63/63 [==============================] - 1s 16ms/step - loss: 0.0744 - acc: 0.9590 - val_loss: 2.3494 - val_acc: 0.7850\n",
      "Epoch 19/20\n",
      "63/63 [==============================] - 1s 23ms/step - loss: 0.0724 - acc: 0.9585 - val_loss: 2.2707 - val_acc: 0.7950\n",
      "Epoch 20/20\n",
      "63/63 [==============================] - 1s 15ms/step - loss: 0.0700 - acc: 0.9580 - val_loss: 2.4929 - val_acc: 0.7890\n"
     ]
    },
    {
     "data": {
      "image/png": "[encoded data removed]",
      "text/plain": [
       "<Figure size 432x288 with 1 Axes>"
      ]
     },
     "metadata": {
      "needs_background": "light"
     },
     "output_type": "display_data"
    }
   ],
   "source": [
    "model_list = []\n",
    "for neurons in [32,64,128,256]:\n",
    "\n",
    "    model_test = create_model(layer=2,neurons=neurons)\n",
    "    model_test.compile(optimizer='rmsprop',\n",
    "                loss='categorical_crossentropy',\n",
    "                metrics=['acc'])\n",
    "\n",
    "    history_test = model_test.fit(partial_x_train,\n",
    "                    partial_y_train,\n",
    "                    epochs=20,\n",
    "                    batch_size=128,\n",
    "                    validation_data=(x_val,y_val))\n",
    "\n",
    "    history_dict_test = history_test.history\n",
    "    loss_values = history_dict_test['loss']\n",
    "    val_loss_values = history_dict_test['val_loss']\n",
    "\n",
    "    acc_values = history_dict_test['acc']\n",
    "    val_acc_values = history_dict_test['val_acc']\n",
    "\n",
    "    plt.plot(epochs, val_acc_values, label=f'Validation acc | {neurons} neurons')\n",
    "\n",
    "plt.grid()\n",
    "plt.title('Training and validation acc')\n",
    "plt.xlabel('Epochs')\n",
    "plt.ylabel('Acc')\n",
    "plt.legend()\n",
    "\n",
    "plt.show()"
   ]
  },
  {
   "cell_type": "code",
   "execution_count": 22,
   "id": "89a11dfe",
   "metadata": {},
   "outputs": [
    {
     "name": "stdout",
     "output_type": "stream",
     "text": [
      "Epoch 1/20\n",
      "63/63 [==============================] - 1s 12ms/step - loss: 1.8503 - acc: 0.6422 - val_loss: 1.2224 - val_acc: 0.7210\n",
      "Epoch 2/20\n",
      "63/63 [==============================] - 1s 10ms/step - loss: 0.9359 - acc: 0.8046 - val_loss: 0.9677 - val_acc: 0.8040\n",
      "Epoch 3/20\n",
      "63/63 [==============================] - 1s 9ms/step - loss: 0.6311 - acc: 0.8715 - val_loss: 0.8444 - val_acc: 0.8320\n",
      "Epoch 4/20\n",
      "63/63 [==============================] - 1s 8ms/step - loss: 0.4493 - acc: 0.9077 - val_loss: 0.8039 - val_acc: 0.8310\n",
      "Epoch 5/20\n",
      "63/63 [==============================] - 1s 12ms/step - loss: 0.3349 - acc: 0.9285 - val_loss: 0.8079 - val_acc: 0.8230\n",
      "Epoch 6/20\n",
      "63/63 [==============================] - 1s 8ms/step - loss: 0.2613 - acc: 0.9406 - val_loss: 0.8293 - val_acc: 0.8390\n",
      "Epoch 7/20\n",
      "63/63 [==============================] - 1s 10ms/step - loss: 0.2146 - acc: 0.9474 - val_loss: 0.8227 - val_acc: 0.8340\n",
      "Epoch 8/20\n",
      "63/63 [==============================] - 1s 9ms/step - loss: 0.1822 - acc: 0.9516 - val_loss: 0.8396 - val_acc: 0.8230\n",
      "Epoch 9/20\n",
      "63/63 [==============================] - 1s 9ms/step - loss: 0.1601 - acc: 0.9541 - val_loss: 0.8806 - val_acc: 0.8160\n",
      "Epoch 10/20\n",
      "63/63 [==============================] - 1s 9ms/step - loss: 0.1464 - acc: 0.9567 - val_loss: 0.9095 - val_acc: 0.8190\n",
      "Epoch 11/20\n",
      "63/63 [==============================] - 1s 9ms/step - loss: 0.1353 - acc: 0.9550 - val_loss: 0.9353 - val_acc: 0.8150\n",
      "Epoch 12/20\n",
      "63/63 [==============================] - 1s 8ms/step - loss: 0.1306 - acc: 0.9549 - val_loss: 0.9705 - val_acc: 0.8090\n",
      "Epoch 13/20\n",
      "63/63 [==============================] - 1s 8ms/step - loss: 0.1204 - acc: 0.9565 - val_loss: 0.9629 - val_acc: 0.8150\n",
      "Epoch 14/20\n",
      "63/63 [==============================] - 1s 8ms/step - loss: 0.1138 - acc: 0.9572 - val_loss: 1.0110 - val_acc: 0.8060\n",
      "Epoch 15/20\n",
      "63/63 [==============================] - 1s 9ms/step - loss: 0.1147 - acc: 0.9565 - val_loss: 1.0516 - val_acc: 0.8130\n",
      "Epoch 16/20\n",
      "63/63 [==============================] - 1s 8ms/step - loss: 0.1089 - acc: 0.9568 - val_loss: 1.0508 - val_acc: 0.8110\n",
      "Epoch 17/20\n",
      "63/63 [==============================] - 0s 8ms/step - loss: 0.1085 - acc: 0.9563 - val_loss: 1.0926 - val_acc: 0.8030\n",
      "Epoch 18/20\n",
      "63/63 [==============================] - 1s 8ms/step - loss: 0.1058 - acc: 0.9572 - val_loss: 1.1662 - val_acc: 0.8060\n",
      "Epoch 19/20\n",
      "63/63 [==============================] - 1s 8ms/step - loss: 0.1009 - acc: 0.9580 - val_loss: 1.1968 - val_acc: 0.8020\n",
      "Epoch 20/20\n",
      "63/63 [==============================] - 0s 8ms/step - loss: 0.1019 - acc: 0.9568 - val_loss: 1.1787 - val_acc: 0.8050\n",
      "Epoch 1/20\n",
      "63/63 [==============================] - 1s 12ms/step - loss: 1.8116 - acc: 0.6200 - val_loss: 1.2415 - val_acc: 0.7050\n",
      "Epoch 2/20\n",
      "63/63 [==============================] - 1s 10ms/step - loss: 0.9550 - acc: 0.7927 - val_loss: 0.9935 - val_acc: 0.7880\n",
      "Epoch 3/20\n",
      "63/63 [==============================] - 1s 9ms/step - loss: 0.6380 - acc: 0.8632 - val_loss: 0.8945 - val_acc: 0.8120\n",
      "Epoch 4/20\n",
      "63/63 [==============================] - 1s 9ms/step - loss: 0.4405 - acc: 0.9045 - val_loss: 0.8751 - val_acc: 0.8300\n",
      "Epoch 5/20\n",
      "63/63 [==============================] - 1s 11ms/step - loss: 0.3246 - acc: 0.9285 - val_loss: 0.9166 - val_acc: 0.8090\n",
      "Epoch 6/20\n",
      "63/63 [==============================] - 1s 11ms/step - loss: 0.2450 - acc: 0.9439 - val_loss: 0.9260 - val_acc: 0.8070\n",
      "Epoch 7/20\n",
      "63/63 [==============================] - 1s 10ms/step - loss: 0.2069 - acc: 0.9481 - val_loss: 0.9668 - val_acc: 0.8080\n",
      "Epoch 8/20\n",
      "63/63 [==============================] - 1s 13ms/step - loss: 0.1744 - acc: 0.9530 - val_loss: 0.9756 - val_acc: 0.8170\n",
      "Epoch 9/20\n",
      "63/63 [==============================] - 1s 10ms/step - loss: 0.1596 - acc: 0.9549 - val_loss: 1.0010 - val_acc: 0.8090\n",
      "Epoch 10/20\n",
      "63/63 [==============================] - 1s 9ms/step - loss: 0.1545 - acc: 0.9549 - val_loss: 1.0726 - val_acc: 0.8040\n",
      "Epoch 11/20\n",
      "63/63 [==============================] - 1s 10ms/step - loss: 0.1361 - acc: 0.9559 - val_loss: 1.1234 - val_acc: 0.7890\n",
      "Epoch 12/20\n",
      "63/63 [==============================] - 1s 10ms/step - loss: 0.1344 - acc: 0.9569 - val_loss: 1.0880 - val_acc: 0.8010\n",
      "Epoch 13/20\n",
      "63/63 [==============================] - 1s 9ms/step - loss: 0.1294 - acc: 0.9550 - val_loss: 1.1695 - val_acc: 0.7950\n",
      "Epoch 14/20\n",
      "63/63 [==============================] - 1s 12ms/step - loss: 0.1210 - acc: 0.9562 - val_loss: 1.1153 - val_acc: 0.8020\n",
      "Epoch 15/20\n",
      "63/63 [==============================] - 1s 9ms/step - loss: 0.1246 - acc: 0.9564 - val_loss: 1.2717 - val_acc: 0.7880\n",
      "Epoch 16/20\n",
      "63/63 [==============================] - 1s 9ms/step - loss: 0.1179 - acc: 0.9560 - val_loss: 1.1312 - val_acc: 0.7980\n",
      "Epoch 17/20\n",
      "63/63 [==============================] - 1s 9ms/step - loss: 0.1161 - acc: 0.9572 - val_loss: 1.1593 - val_acc: 0.8020\n",
      "Epoch 18/20\n",
      "63/63 [==============================] - 1s 9ms/step - loss: 0.1101 - acc: 0.9584 - val_loss: 1.1798 - val_acc: 0.7970\n",
      "Epoch 19/20\n",
      "63/63 [==============================] - 1s 11ms/step - loss: 0.1068 - acc: 0.9572 - val_loss: 1.2644 - val_acc: 0.7950\n",
      "Epoch 20/20\n",
      "63/63 [==============================] - 1s 10ms/step - loss: 0.1089 - acc: 0.9562 - val_loss: 1.1918 - val_acc: 0.7950\n",
      "Epoch 1/20\n",
      "63/63 [==============================] - 2s 14ms/step - loss: 1.7972 - acc: 0.6194 - val_loss: 1.3208 - val_acc: 0.6930\n",
      "Epoch 2/20\n",
      "63/63 [==============================] - 1s 9ms/step - loss: 1.0119 - acc: 0.7752 - val_loss: 1.0482 - val_acc: 0.7690\n",
      "Epoch 3/20\n",
      "63/63 [==============================] - 1s 10ms/step - loss: 0.6849 - acc: 0.8425 - val_loss: 0.9968 - val_acc: 0.7920\n",
      "Epoch 4/20\n",
      "63/63 [==============================] - 1s 10ms/step - loss: 0.4625 - acc: 0.9000 - val_loss: 1.0283 - val_acc: 0.7960\n",
      "Epoch 5/20\n",
      "63/63 [==============================] - 1s 9ms/step - loss: 0.3298 - acc: 0.9278 - val_loss: 1.0259 - val_acc: 0.7930\n",
      "Epoch 6/20\n",
      "63/63 [==============================] - 1s 10ms/step - loss: 0.2446 - acc: 0.9440 - val_loss: 1.0396 - val_acc: 0.8000\n",
      "Epoch 7/20\n",
      "63/63 [==============================] - 1s 9ms/step - loss: 0.2058 - acc: 0.9489 - val_loss: 1.1338 - val_acc: 0.8090\n",
      "Epoch 8/20\n",
      "63/63 [==============================] - 1s 10ms/step - loss: 0.1786 - acc: 0.9513 - val_loss: 1.0997 - val_acc: 0.8150\n",
      "Epoch 9/20\n",
      "63/63 [==============================] - 1s 9ms/step - loss: 0.1627 - acc: 0.9553 - val_loss: 1.2791 - val_acc: 0.7800\n",
      "Epoch 10/20\n",
      "63/63 [==============================] - 1s 10ms/step - loss: 0.1463 - acc: 0.9539 - val_loss: 1.1816 - val_acc: 0.7960\n",
      "Epoch 11/20\n",
      "63/63 [==============================] - 1s 9ms/step - loss: 0.1383 - acc: 0.9554 - val_loss: 1.2149 - val_acc: 0.8010\n",
      "Epoch 12/20\n",
      "63/63 [==============================] - 1s 9ms/step - loss: 0.1310 - acc: 0.9549 - val_loss: 1.2901 - val_acc: 0.7770\n",
      "Epoch 13/20\n",
      "63/63 [==============================] - 1s 9ms/step - loss: 0.1201 - acc: 0.9563 - val_loss: 1.3461 - val_acc: 0.7870\n",
      "Epoch 14/20\n",
      "63/63 [==============================] - 1s 9ms/step - loss: 0.1191 - acc: 0.9535 - val_loss: 1.3206 - val_acc: 0.7920\n",
      "Epoch 15/20\n",
      "63/63 [==============================] - 1s 10ms/step - loss: 0.1125 - acc: 0.9559 - val_loss: 1.4403 - val_acc: 0.7840\n",
      "Epoch 16/20\n",
      "63/63 [==============================] - 1s 10ms/step - loss: 0.1082 - acc: 0.9568 - val_loss: 1.3818 - val_acc: 0.7990\n",
      "Epoch 17/20\n",
      "63/63 [==============================] - 1s 10ms/step - loss: 0.1027 - acc: 0.9551 - val_loss: 1.4124 - val_acc: 0.7820\n",
      "Epoch 18/20\n",
      "63/63 [==============================] - 1s 11ms/step - loss: 0.0994 - acc: 0.9559 - val_loss: 1.4489 - val_acc: 0.7950\n",
      "Epoch 19/20\n",
      "63/63 [==============================] - 1s 9ms/step - loss: 0.0961 - acc: 0.9577 - val_loss: 1.6015 - val_acc: 0.7880\n",
      "Epoch 20/20\n",
      "63/63 [==============================] - 1s 9ms/step - loss: 0.0929 - acc: 0.9564 - val_loss: 1.6042 - val_acc: 0.7950\n"
     ]
    },
    {
     "data": {
      "image/png": "[encoded data removed]",
      "text/plain": [
       "<Figure size 432x288 with 1 Axes>"
      ]
     },
     "metadata": {
      "needs_background": "light"
     },
     "output_type": "display_data"
    }
   ],
   "source": [
    "model_list = []\n",
    "for l in [1,2,3]:\n",
    "\n",
    "    model_test = create_model(layer=l,neurons=64)\n",
    "    model_test.compile(optimizer='rmsprop',\n",
    "                loss='categorical_crossentropy',\n",
    "                metrics=['acc'])\n",
    "\n",
    "    history_test = model_test.fit(partial_x_train,\n",
    "                    partial_y_train,\n",
    "                    epochs=20,\n",
    "                    batch_size=128,\n",
    "                    validation_data=(x_val,y_val))\n",
    "\n",
    "    history_dict_test = history_test.history\n",
    "    loss_values = history_dict_test['loss']\n",
    "    val_loss_values = history_dict_test['val_loss']\n",
    "\n",
    "    acc_values = history_dict_test['acc']\n",
    "    val_acc_values = history_dict_test['val_acc']\n",
    "\n",
    "    plt.plot(epochs, val_acc_values, label=f'Validation acc | {l} layers')\n",
    "\n",
    "plt.grid()\n",
    "plt.title('Training and validation acc')\n",
    "plt.xlabel('Epochs')\n",
    "plt.ylabel('Acc')\n",
    "plt.legend()\n",
    "\n",
    "plt.show()"
   ]
  },
  {
   "cell_type": "code",
   "execution_count": null,
   "id": "7bc618da",
   "metadata": {},
   "outputs": [],
   "source": []
  }
 ],
 "metadata": {
  "interpreter": {
   "hash": "63b92955b55041c396729b4a3fafec15bc87bdd30e4c41bcd54278f379ec47bd"
  },
  "kernelspec": {
   "display_name": "Python 3.10.0 ('venv': venv)",
   "language": "python",
   "name": "python3"
  },
  "language_info": {
   "codemirror_mode": {
    "name": "ipython",
    "version": 3
   },
   "file_extension": ".py",
   "mimetype": "text/x-python",
   "name": "python",
   "nbconvert_exporter": "python",
   "pygments_lexer": "ipython3",
   "version": "3.10.0"
  }
 },
 "nbformat": 4,
 "nbformat_minor": 5
}
