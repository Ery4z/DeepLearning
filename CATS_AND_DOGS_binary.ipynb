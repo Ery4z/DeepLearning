{
 "cells": [
  {
   "cell_type": "code",
   "execution_count": 1,
   "metadata": {},
   "outputs": [],
   "source": [
    "from keras import models, layers, optimizers\n",
    "from keras.utils import to_categorical\n",
    "from keras.preprocessing.image import ImageDataGenerator\n",
    "import scipy\n",
    "\n",
    "import matplotlib.pyplot as plt\n",
    "import numpy as np"
   ]
  },
  {
   "cell_type": "code",
   "execution_count": 2,
   "metadata": {},
   "outputs": [
    {
     "name": "stdout",
     "output_type": "stream",
     "text": [
      "Model: \"sequential\"\n",
      "_________________________________________________________________\n",
      " Layer (type)                Output Shape              Param #   \n",
      "=================================================================\n",
      " conv2d (Conv2D)             (None, 148, 148, 32)      896       \n",
      "                                                                 \n",
      " max_pooling2d (MaxPooling2D  (None, 74, 74, 32)       0         \n",
      " )                                                               \n",
      "                                                                 \n",
      " conv2d_1 (Conv2D)           (None, 72, 72, 64)        18496     \n",
      "                                                                 \n",
      " max_pooling2d_1 (MaxPooling  (None, 36, 36, 64)       0         \n",
      " 2D)                                                             \n",
      "                                                                 \n",
      " conv2d_2 (Conv2D)           (None, 34, 34, 128)       73856     \n",
      "                                                                 \n",
      " max_pooling2d_2 (MaxPooling  (None, 17, 17, 128)      0         \n",
      " 2D)                                                             \n",
      "                                                                 \n",
      " conv2d_3 (Conv2D)           (None, 15, 15, 128)       147584    \n",
      "                                                                 \n",
      " max_pooling2d_3 (MaxPooling  (None, 7, 7, 128)        0         \n",
      " 2D)                                                             \n",
      "                                                                 \n",
      " flatten (Flatten)           (None, 6272)              0         \n",
      "                                                                 \n",
      " dense (Dense)               (None, 512)               3211776   \n",
      "                                                                 \n",
      " dense_1 (Dense)             (None, 1)                 513       \n",
      "                                                                 \n",
      "=================================================================\n",
      "Total params: 3,453,121\n",
      "Trainable params: 3,453,121\n",
      "Non-trainable params: 0\n",
      "_________________________________________________________________\n"
     ]
    }
   ],
   "source": [
    "model = models.Sequential()\n",
    "\n",
    "model.add(layers.Conv2D(32, (3,3), activation='relu', input_shape=(150, 150, 3)))\n",
    "model.add(layers.MaxPooling2D((2,2)))\n",
    "\n",
    "model.add(layers.Conv2D(64, (3,3), activation='relu'))\n",
    "model.add(layers.MaxPooling2D((2,2)))\n",
    "\n",
    "model.add(layers.Conv2D(128, (3,3), activation='relu'))\n",
    "model.add(layers.MaxPooling2D((2,2)))\n",
    "\n",
    "model.add(layers.Conv2D(128, (3,3), activation='relu'))\n",
    "model.add(layers.MaxPooling2D((2,2)))\n",
    "\n",
    "model.add(layers.Flatten())\n",
    "model.add(layers.Dense(512, activation='relu'))\n",
    "\n",
    "model.add(layers.Dense(1, activation='sigmoid'))\n",
    "\n",
    "model.compile(loss='binary_crossentropy', optimizer=optimizers.RMSprop(learning_rate=1e-4), metrics=['accuracy'])\n",
    "\n",
    "model.summary()"
   ]
  },
  {
   "cell_type": "code",
   "execution_count": 3,
   "metadata": {},
   "outputs": [
    {
     "name": "stdout",
     "output_type": "stream",
     "text": [
      "Found 2000 images belonging to 2 classes.\n",
      "Found 1000 images belonging to 2 classes.\n"
     ]
    }
   ],
   "source": [
    "train_datagen = ImageDataGenerator(rescale=1./255)\n",
    "test_datagen = ImageDataGenerator(rescale=1./255)\n",
    "\n",
    "\n",
    "train_dir = os.path.abspath('') + '/dataset/cats_and_dogs_small/train'\n",
    "validation_dir = os.path.abspath('') + '/dataset/cats_and_dogs_small/validation'\n",
    "test_dir = os.path.abspath('') + '/dataset/cats_and_dogs_small/test'\n",
    "\n",
    "\n",
    "train_generator = train_datagen.flow_from_directory(train_dir, target_size=(150,150), batch_size=20, class_mode='binary')\n",
    "\n",
    "validation_generator = test_datagen.flow_from_directory(validation_dir, target_size=(150,150), batch_size=20, class_mode='binary')\n"
   ]
  },
  {
   "cell_type": "code",
   "execution_count": 4,
   "metadata": {},
   "outputs": [
    {
     "name": "stdout",
     "output_type": "stream",
     "text": [
      "Epoch 1/30\n",
      "100/100 [==============================] - 22s 186ms/step - loss: 0.6875 - accuracy: 0.5420 - val_loss: 0.6729 - val_accuracy: 0.5920\n",
      "Epoch 2/30\n",
      "100/100 [==============================] - 5s 53ms/step - loss: 0.6543 - accuracy: 0.6190 - val_loss: 0.6331 - val_accuracy: 0.6500\n",
      "Epoch 3/30\n",
      "100/100 [==============================] - 5s 53ms/step - loss: 0.6072 - accuracy: 0.6595 - val_loss: 0.7129 - val_accuracy: 0.5500\n",
      "Epoch 4/30\n",
      "100/100 [==============================] - 5s 54ms/step - loss: 0.5708 - accuracy: 0.7025 - val_loss: 0.6078 - val_accuracy: 0.6660\n",
      "Epoch 5/30\n",
      "100/100 [==============================] - 5s 52ms/step - loss: 0.5434 - accuracy: 0.7255 - val_loss: 0.5909 - val_accuracy: 0.6800\n",
      "Epoch 6/30\n",
      "100/100 [==============================] - 5s 53ms/step - loss: 0.5184 - accuracy: 0.7490 - val_loss: 0.5844 - val_accuracy: 0.6930\n",
      "Epoch 7/30\n",
      "100/100 [==============================] - 5s 53ms/step - loss: 0.4856 - accuracy: 0.7610 - val_loss: 0.5828 - val_accuracy: 0.6850\n",
      "Epoch 8/30\n",
      "100/100 [==============================] - 5s 53ms/step - loss: 0.4677 - accuracy: 0.7705 - val_loss: 0.5715 - val_accuracy: 0.6960\n",
      "Epoch 9/30\n",
      "100/100 [==============================] - 5s 52ms/step - loss: 0.4332 - accuracy: 0.7975 - val_loss: 0.5615 - val_accuracy: 0.7150\n",
      "Epoch 10/30\n",
      "100/100 [==============================] - 5s 52ms/step - loss: 0.4120 - accuracy: 0.8110 - val_loss: 0.5572 - val_accuracy: 0.7160\n",
      "Epoch 11/30\n",
      "100/100 [==============================] - 5s 53ms/step - loss: 0.3947 - accuracy: 0.8175 - val_loss: 0.6257 - val_accuracy: 0.6870\n",
      "Epoch 12/30\n",
      "100/100 [==============================] - 5s 53ms/step - loss: 0.3711 - accuracy: 0.8370 - val_loss: 0.6463 - val_accuracy: 0.6830\n",
      "Epoch 13/30\n",
      "100/100 [==============================] - 7s 68ms/step - loss: 0.3546 - accuracy: 0.8455 - val_loss: 0.5608 - val_accuracy: 0.7140\n",
      "Epoch 14/30\n",
      "100/100 [==============================] - 6s 56ms/step - loss: 0.3299 - accuracy: 0.8620 - val_loss: 0.6032 - val_accuracy: 0.7120\n",
      "Epoch 15/30\n",
      "100/100 [==============================] - 5s 54ms/step - loss: 0.2994 - accuracy: 0.8795 - val_loss: 0.5862 - val_accuracy: 0.7320\n",
      "Epoch 16/30\n",
      "100/100 [==============================] - 6s 55ms/step - loss: 0.2756 - accuracy: 0.8870 - val_loss: 0.6553 - val_accuracy: 0.7070\n",
      "Epoch 17/30\n",
      "100/100 [==============================] - 6s 55ms/step - loss: 0.2574 - accuracy: 0.8955 - val_loss: 0.6248 - val_accuracy: 0.7290\n",
      "Epoch 18/30\n",
      "100/100 [==============================] - 5s 53ms/step - loss: 0.2369 - accuracy: 0.9050 - val_loss: 0.6061 - val_accuracy: 0.7300\n",
      "Epoch 19/30\n",
      "100/100 [==============================] - 5s 50ms/step - loss: 0.2123 - accuracy: 0.9215 - val_loss: 0.7015 - val_accuracy: 0.7120\n",
      "Epoch 20/30\n",
      "100/100 [==============================] - 5s 51ms/step - loss: 0.1938 - accuracy: 0.9325 - val_loss: 0.7520 - val_accuracy: 0.7230\n",
      "Epoch 21/30\n",
      "100/100 [==============================] - 5s 51ms/step - loss: 0.1718 - accuracy: 0.9325 - val_loss: 0.6546 - val_accuracy: 0.7370\n",
      "Epoch 22/30\n",
      "100/100 [==============================] - 5s 51ms/step - loss: 0.1641 - accuracy: 0.9340 - val_loss: 0.6796 - val_accuracy: 0.7300\n",
      "Epoch 23/30\n",
      "100/100 [==============================] - 5s 51ms/step - loss: 0.1360 - accuracy: 0.9600 - val_loss: 0.7410 - val_accuracy: 0.7280\n",
      "Epoch 24/30\n",
      "100/100 [==============================] - 5s 51ms/step - loss: 0.1265 - accuracy: 0.9590 - val_loss: 0.7902 - val_accuracy: 0.7240\n",
      "Epoch 25/30\n",
      "100/100 [==============================] - 5s 51ms/step - loss: 0.1085 - accuracy: 0.9650 - val_loss: 0.8379 - val_accuracy: 0.7150\n",
      "Epoch 26/30\n",
      "100/100 [==============================] - 5s 50ms/step - loss: 0.0902 - accuracy: 0.9715 - val_loss: 0.8517 - val_accuracy: 0.7250\n",
      "Epoch 27/30\n",
      "100/100 [==============================] - 5s 51ms/step - loss: 0.0829 - accuracy: 0.9770 - val_loss: 0.8862 - val_accuracy: 0.7310\n",
      "Epoch 28/30\n",
      "100/100 [==============================] - 6s 55ms/step - loss: 0.0711 - accuracy: 0.9795 - val_loss: 1.0961 - val_accuracy: 0.7120\n",
      "Epoch 29/30\n",
      "100/100 [==============================] - 5s 54ms/step - loss: 0.0671 - accuracy: 0.9805 - val_loss: 0.9415 - val_accuracy: 0.7230\n",
      "Epoch 30/30\n",
      "100/100 [==============================] - 6s 55ms/step - loss: 0.0498 - accuracy: 0.9870 - val_loss: 1.2284 - val_accuracy: 0.6930\n"
     ]
    }
   ],
   "source": [
    "history = model.fit(train_generator, steps_per_epoch=100, epochs=30, validation_data=validation_generator, validation_steps=50)\n",
    "model.save('cats_and_dogs_small_1.h5')"
   ]
  },
  {
   "cell_type": "code",
   "execution_count": 6,
   "metadata": {},
   "outputs": [
    {
     "data": {
      "image/png": "[encoded data removed]",
      "text/plain": [
       "<Figure size 432x288 with 1 Axes>"
      ]
     },
     "metadata": {
      "needs_background": "light"
     },
     "output_type": "display_data"
    },
    {
     "data": {
      "image/png": "[encoded data removed]",
      "text/plain": [
       "<Figure size 432x288 with 1 Axes>"
      ]
     },
     "metadata": {
      "needs_background": "light"
     },
     "output_type": "display_data"
    }
   ],
   "source": [
    "acc = history.history['accuracy']\n",
    "val_acc = history.history['val_accuracy']\n",
    "loss = history.history['loss']\n",
    "val_loss = history.history['val_loss']\n",
    "\n",
    "epochs = range(1,len(acc)+1)\n",
    "\n",
    "plt.plot(epochs,acc, 'bo', label = 'Training acc')\n",
    "plt.plot(epochs,val_acc, 'b', label = 'Validation acc')\n",
    "plt.title(\"Training and validation accuracy\")\n",
    "plt.legend()\n",
    "plt.grid()\n",
    "plt.show()\n",
    "\n",
    "plt.figure()\n",
    "\n",
    "plt.plot(epochs,loss, 'bo', label = 'Training loss')\n",
    "plt.plot(epochs,val_loss, 'b', label = 'Validation loss')\n",
    "plt.title(\"Training and validation loss\")\n",
    "plt.legend()\n",
    "plt.grid()\n",
    "plt.show()\n"
   ]
  },
  {
   "cell_type": "code",
   "execution_count": null,
   "metadata": {},
   "outputs": [],
   "source": []
  }
 ],
 "metadata": {
  "kernelspec": {
   "display_name": "Python 3.10.0 ('venv': venv)",
   "language": "python",
   "name": "python3"
  },
  "language_info": {
   "codemirror_mode": {
    "name": "ipython",
    "version": 3
   },
   "file_extension": ".py",
   "mimetype": "text/x-python",
   "name": "python",
   "nbconvert_exporter": "python",
   "pygments_lexer": "ipython3",
   "version": "3.10.0"
  },
  "orig_nbformat": 4,
  "vscode": {
   "interpreter": {
    "hash": "63b92955b55041c396729b4a3fafec15bc87bdd30e4c41bcd54278f379ec47bd"
   }
  }
 },
 "nbformat": 4,
 "nbformat_minor": 2
}
